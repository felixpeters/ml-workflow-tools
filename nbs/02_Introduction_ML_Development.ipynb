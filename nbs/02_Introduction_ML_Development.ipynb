{
 "cells": [
  {
   "cell_type": "markdown",
   "metadata": {},
   "source": [
    "# Module 2: Introduction to ML Development"
   ]
  },
  {
   "cell_type": "markdown",
   "metadata": {},
   "source": [
    "## How to run code"
   ]
  },
  {
   "cell_type": "markdown",
   "metadata": {},
   "source": [
    "Jupyter notebooks allow evaluating Python code immediately. Just type some code and hit `Run` or press `Shift-enter`."
   ]
  },
  {
   "cell_type": "code",
   "execution_count": 1,
   "metadata": {},
   "outputs": [
    {
     "data": {
      "text/plain": [
       "2"
      ]
     },
     "execution_count": 1,
     "metadata": {},
     "output_type": "execute_result"
    }
   ],
   "source": [
    "1 + 1"
   ]
  },
  {
   "cell_type": "code",
   "execution_count": 2,
   "metadata": {},
   "outputs": [
    {
     "name": "stdout",
     "output_type": "stream",
     "text": [
      "Hello world\n"
     ]
    }
   ],
   "source": [
    "name = \"world\"\n",
    "print(\"Hello \" + name)"
   ]
  },
  {
   "cell_type": "markdown",
   "metadata": {},
   "source": [
    "You can access all packages from the standard library and packages installed in your environment.\n",
    "\n",
    "Let's test this with a quick little example. Our goal is to **write a random number generator** using the standard library. Thus, we want to create a function that receives an interval from which to draw numbers and the desired array length. \n",
    "\n",
    "Firstly, we have to import the `random` package from the standard library."
   ]
  },
  {
   "cell_type": "code",
   "execution_count": 3,
   "metadata": {},
   "outputs": [],
   "source": [
    "import random"
   ]
  },
  {
   "cell_type": "markdown",
   "metadata": {},
   "source": [
    "We can now use autocomplete to find a suitable function for our RNG and fill out its parameters."
   ]
  },
  {
   "cell_type": "code",
   "execution_count": 5,
   "metadata": {},
   "outputs": [
    {
     "data": {
      "text/plain": [
       "9"
      ]
     },
     "execution_count": 5,
     "metadata": {},
     "output_type": "execute_result"
    }
   ],
   "source": [
    "random.randint(a=0, b=10)"
   ]
  },
  {
   "cell_type": "markdown",
   "metadata": {},
   "source": [
    "Now we can build our own function around it."
   ]
  },
  {
   "cell_type": "code",
   "execution_count": 6,
   "metadata": {},
   "outputs": [],
   "source": [
    "def rng(start, end, size):\n",
    "    \"\"\" A basic random number generator. \"\"\"\n",
    "    res = []\n",
    "    for _ in range(size):\n",
    "        res.append(random.randint(start, end))\n",
    "    return res"
   ]
  },
  {
   "cell_type": "code",
   "execution_count": 8,
   "metadata": {},
   "outputs": [
    {
     "data": {
      "text/plain": [
       "[3, 4, 1, 0, 7, 2, 6, 1, 1, 2]"
      ]
     },
     "execution_count": 8,
     "metadata": {},
     "output_type": "execute_result"
    }
   ],
   "source": [
    "rng(0, 10, 10)"
   ]
  },
  {
   "cell_type": "markdown",
   "metadata": {},
   "source": [
    "Running this function repeatedly will yield different results, as expected."
   ]
  },
  {
   "cell_type": "markdown",
   "metadata": {},
   "source": [
    "## How to write documentation"
   ]
  },
  {
   "cell_type": "markdown",
   "metadata": {},
   "source": [
    "As you've already seen, we can write documentation. Jupyter uses the Markdown format, e.g., supporting **bold**, *italic* and ~strikethrough~ text."
   ]
  },
  {
   "cell_type": "markdown",
   "metadata": {},
   "source": [
    "We can also insert images... \n",
    "\n",
    "![Jupyter logo](img/jupyter.png)\n",
    "\n",
    "...and [hyperlinks](https://jupyter.org)."
   ]
  },
  {
   "cell_type": "markdown",
   "metadata": {},
   "source": [
    "Jupyter also supports LaTex-style equations which can be quite helpful when dealing with statistical modeling.\n",
    "\n",
    "You can insert inline functions: $a = b + c$\n",
    "\n",
    "Alternatively, you can create new lines for more complex equations:\n",
    "\n",
    "$$RMSE = \\frac{1}{n} \\sum_1^n (y - \\hat{y})^2$$"
   ]
  },
  {
   "cell_type": "markdown",
   "metadata": {},
   "source": [
    "## How to access the command line"
   ]
  },
  {
   "cell_type": "markdown",
   "metadata": {},
   "source": [
    "Jupyter offers multiple ways to access the command line:\n",
    "\n",
    "1. Open a dedicated terminal from the home page\n",
    "2. Run commands from within Jupyter notebooks\n",
    "\n",
    "I will demonstrate both ways here.\n",
    "\n",
    "For a dedicated terminal, go to your home page and hit `New > Terminal` to open a new terminal.\n",
    "\n",
    "If you want your interaction with the command line to be captured (e.g., for reproducibility of data downloads), run them within a Jupyter cell. **Important:** You have to prefix the command with the `!` character.\n",
    "\n"
   ]
  },
  {
   "cell_type": "code",
   "execution_count": 11,
   "metadata": {},
   "outputs": [
    {
     "name": "stdout",
     "output_type": "stream",
     "text": [
      "/bin/zsh\r\n"
     ]
    }
   ],
   "source": [
    "!echo $SHELL"
   ]
  },
  {
   "cell_type": "code",
   "execution_count": 12,
   "metadata": {},
   "outputs": [
    {
     "name": "stdout",
     "output_type": "stream",
     "text": [
      "02_Introduction_ML_Development.ipynb 06_Model_Evaluation.ipynb\r\n",
      "03_Exploratory_Data_Analysis.ipynb   \u001b[35mdata\u001b[m\u001b[m\r\n",
      "04_Feature_Engineering.ipynb         \u001b[1m\u001b[36mimg\u001b[m\u001b[m\r\n",
      "05_Model_Development.ipynb           \u001b[1m\u001b[36mtmp\u001b[m\u001b[m\r\n"
     ]
    }
   ],
   "source": [
    "!ls"
   ]
  },
  {
   "cell_type": "code",
   "execution_count": 13,
   "metadata": {},
   "outputs": [
    {
     "name": "stdout",
     "output_type": "stream",
     "text": [
      "/Users/felix/code/ml/ml-workflow-tools/nbs\r\n"
     ]
    }
   ],
   "source": [
    "!pwd"
   ]
  },
  {
   "cell_type": "markdown",
   "metadata": {},
   "source": [
    "## Environment management"
   ]
  },
  {
   "cell_type": "markdown",
   "metadata": {},
   "source": [
    "Let's find out more about our environment by using some `conda` commands.\n",
    "\n",
    "Firstly, let's check all our environments."
   ]
  },
  {
   "cell_type": "code",
   "execution_count": 14,
   "metadata": {},
   "outputs": [
    {
     "name": "stdout",
     "output_type": "stream",
     "text": [
      "# conda environments:\r\n",
      "#\r\n",
      "base                     /Users/felix/miniconda3\r\n",
      "aws                      /Users/felix/miniconda3/envs/aws\r\n",
      "misq_sim                 /Users/felix/miniconda3/envs/misq_sim\r\n",
      "ml_workshop           *  /Users/felix/miniconda3/envs/ml_workshop\r\n",
      "\r\n"
     ]
    }
   ],
   "source": [
    "!conda env list"
   ]
  },
  {
   "cell_type": "markdown",
   "metadata": {},
   "source": [
    "Nice, our pre-configured workshop environment is already activated, as denoted by the asterisk next to it.\n",
    "\n",
    "Now let's see what packages are installed in this environment."
   ]
  },
  {
   "cell_type": "code",
   "execution_count": 15,
   "metadata": {
    "scrolled": false
   },
   "outputs": [
    {
     "name": "stdout",
     "output_type": "stream",
     "text": [
      "# packages in environment at /Users/felix/miniconda3/envs/ml_workshop:\r\n",
      "#\r\n",
      "# Name                    Version                   Build  Channel\r\n",
      "appnope                   0.1.0                 py37_1000    conda-forge\r\n",
      "arrow-cpp                 0.14.1           py37h43d7656_0    conda-forge\r\n",
      "attrs                     19.1.0                     py_0    conda-forge\r\n",
      "backcall                  0.1.0                      py_0    conda-forge\r\n",
      "bleach                    3.1.0                      py_0    conda-forge\r\n",
      "boost-cpp                 1.70.0               h75728bb_2    conda-forge\r\n",
      "brotli                    1.0.7             h6de7cb9_1000    conda-forge\r\n",
      "bzip2                     1.0.8                h01d97ff_0    conda-forge\r\n",
      "c-ares                    1.15.0            h01d97ff_1001    conda-forge\r\n",
      "ca-certificates           2019.9.11            hecc5488_0    conda-forge\r\n",
      "certifi                   2019.9.11                py37_0    conda-forge\r\n",
      "cycler                    0.10.0                     py_1    conda-forge\r\n",
      "decorator                 4.4.0                      py_0    conda-forge\r\n",
      "defusedxml                0.5.0                      py_1    conda-forge\r\n",
      "double-conversion         3.1.5                h6de7cb9_1    conda-forge\r\n",
      "entrypoints               0.3                   py37_1000    conda-forge\r\n",
      "freetype                  2.10.0               h24853df_0    conda-forge\r\n",
      "gflags                    2.2.2             h6de7cb9_1001    conda-forge\r\n",
      "glog                      0.4.0                h6de7cb9_1    conda-forge\r\n",
      "grpc-cpp                  1.23.0               h5c95ec2_0    conda-forge\r\n",
      "icu                       64.2                 h6de7cb9_0    conda-forge\r\n",
      "ipykernel                 5.1.1            py37h5ca1d4c_0    conda-forge\r\n",
      "ipython                   7.7.0            py37h5ca1d4c_0    conda-forge\r\n",
      "ipython_genutils          0.2.0                      py_1    conda-forge\r\n",
      "jedi                      0.14.1                   py37_0    conda-forge\r\n",
      "jinja2                    2.10.1                     py_0    conda-forge\r\n",
      "joblib                    0.13.2                     py_0    conda-forge\r\n",
      "jsonschema                3.0.2                    py37_0    conda-forge\r\n",
      "jupyter_client            5.3.1                      py_0    conda-forge\r\n",
      "jupyter_contrib_core      0.3.3                      py_2    conda-forge\r\n",
      "jupyter_contrib_nbextensions 0.5.1                    py37_0    conda-forge\r\n",
      "jupyter_core              4.4.0                      py_0    conda-forge\r\n",
      "jupyter_highlight_selected_word 0.2.0                 py37_1000    conda-forge\r\n",
      "jupyter_latex_envs        1.4.4                 py37_1000    conda-forge\r\n",
      "jupyter_nbextensions_configurator 0.4.1                    py37_0    conda-forge\r\n",
      "kiwisolver                1.1.0            py37h770b8ee_0    conda-forge\r\n",
      "libblas                   3.8.0               11_openblas    conda-forge\r\n",
      "libcblas                  3.8.0               11_openblas    conda-forge\r\n",
      "libcxx                    8.0.0                         4    conda-forge\r\n",
      "libcxxabi                 8.0.0                         4    conda-forge\r\n",
      "libevent                  2.1.10               h212c5bf_0    conda-forge\r\n",
      "libffi                    3.2.1             h6de7cb9_1006    conda-forge\r\n",
      "libgfortran               4.0.0                         0    conda-forge\r\n",
      "libiconv                  1.15              h01d97ff_1005    conda-forge\r\n",
      "liblapack                 3.8.0               11_openblas    conda-forge\r\n",
      "libopenblas               0.3.6                h4bb4525_6    conda-forge\r\n",
      "libpng                    1.6.37               h2573ce8_0    conda-forge\r\n",
      "libprotobuf               3.8.0                hfbae3c0_0    conda-forge\r\n",
      "libsodium                 1.0.17               h01d97ff_0    conda-forge\r\n",
      "libxml2                   2.9.9                h12c6b28_2    conda-forge\r\n",
      "libxslt                   1.1.32            h320ff13_1004    conda-forge\r\n",
      "lime                      0.1.1.36                   py_0    conda-forge\r\n",
      "llvm-openmp               8.0.0                h770b8ee_0    conda-forge\r\n",
      "lxml                      4.4.1            py37h08abf6f_0    conda-forge\r\n",
      "lz4-c                     1.8.3             h6de7cb9_1001    conda-forge\r\n",
      "markupsafe                1.1.1            py37h1de35cc_0    conda-forge\r\n",
      "matplotlib                3.1.1                    py37_1    conda-forge\r\n",
      "matplotlib-base           3.1.1            py37h3a684a6_1    conda-forge\r\n",
      "mistune                   0.8.4           py37h1de35cc_1000    conda-forge\r\n",
      "nbconvert                 5.5.0                      py_0    conda-forge\r\n",
      "nbformat                  4.4.0                      py_1    conda-forge\r\n",
      "ncurses                   6.1               h0a44026_1002    conda-forge\r\n",
      "notebook                  6.0.0                    py37_0    conda-forge\r\n",
      "numpy                     1.17.0           py37h6b0580a_0    conda-forge\r\n",
      "openssl                   1.1.1c               h01d97ff_0    conda-forge\r\n",
      "pandas                    0.25.0           py37h86efe34_0    conda-forge\r\n",
      "pandoc                    2.7.3                         0    conda-forge\r\n",
      "pandocfilters             1.4.2                      py_1    conda-forge\r\n",
      "parquet-cpp               1.5.1                         2    conda-forge\r\n",
      "parso                     0.5.1                      py_0    conda-forge\r\n",
      "pexpect                   4.7.0                    py37_0    conda-forge\r\n",
      "pickleshare               0.7.5                 py37_1000    conda-forge\r\n",
      "pip                       19.2.1                   py37_0    conda-forge\r\n",
      "prometheus_client         0.7.1                      py_0    conda-forge\r\n",
      "prompt_toolkit            2.0.9                      py_0    conda-forge\r\n",
      "ptyprocess                0.6.0                   py_1001    conda-forge\r\n",
      "pyarrow                   0.14.1           py37he1943e6_0    conda-forge\r\n",
      "pygments                  2.4.2                      py_0    conda-forge\r\n",
      "pyparsing                 2.4.2                      py_0    conda-forge\r\n",
      "pyrsistent                0.15.4           py37h01d97ff_0    conda-forge\r\n",
      "python                    3.7.3                h93065d6_1    conda-forge\r\n",
      "python-dateutil           2.8.0                      py_0    conda-forge\r\n",
      "pytz                      2019.2                     py_0    conda-forge\r\n",
      "pyyaml                    5.1.2            py37h01d97ff_0    conda-forge\r\n",
      "pyzmq                     18.0.2           py37hee98d25_2    conda-forge\r\n",
      "re2                       2019.08.01           h6de7cb9_0    conda-forge\r\n",
      "readline                  8.0                  hcfe32e1_0    conda-forge\r\n",
      "scikit-learn              0.21.3           py37hd4ffd6c_0    conda-forge\r\n",
      "scipy                     1.3.0            py37h7e0e109_1    conda-forge\r\n",
      "send2trash                1.5.0                      py_0    conda-forge\r\n",
      "setuptools                41.0.1                   py37_0    conda-forge\r\n",
      "six                       1.12.0                py37_1000    conda-forge\r\n",
      "snappy                    1.1.7             h6de7cb9_1002    conda-forge\r\n",
      "sqlite                    3.29.0               hb7d70f7_0    conda-forge\r\n",
      "terminado                 0.8.2                    py37_0    conda-forge\r\n",
      "testpath                  0.4.2                   py_1001    conda-forge\r\n",
      "thrift-cpp                0.12.0            h874095a_1004    conda-forge\r\n",
      "tk                        8.6.9             h2573ce8_1002    conda-forge\r\n",
      "tornado                   6.0.3            py37h01d97ff_0    conda-forge\r\n",
      "traitlets                 4.3.2                 py37_1000    conda-forge\r\n",
      "uriparser                 0.9.3                h6de7cb9_1    conda-forge\r\n",
      "wcwidth                   0.1.7                      py_1    conda-forge\r\n",
      "webencodings              0.5.1                      py_1    conda-forge\r\n",
      "wheel                     0.33.4                   py37_0    conda-forge\r\n",
      "xz                        5.2.4             h1de35cc_1001    conda-forge\r\n",
      "yaml                      0.1.7             h1de35cc_1001    conda-forge\r\n",
      "zeromq                    4.3.2                h6de7cb9_2    conda-forge\r\n",
      "zlib                      1.2.11            h01d97ff_1005    conda-forge\r\n",
      "zstd                      1.4.0                ha9f0a20_0    conda-forge\r\n"
     ]
    }
   ],
   "source": [
    "!conda list"
   ]
  },
  {
   "cell_type": "markdown",
   "metadata": {},
   "source": [
    "## How to use built-in functions"
   ]
  },
  {
   "cell_type": "markdown",
   "metadata": {},
   "source": [
    "Jupyter also comes with some pretty handy built-in functions. For example, we can access documentation for all our installed packages from within Jupyter. Using autocomplete and the `?` character can save you a lot of Google searches and make you more productive. Simply load a package, and prefix your desired class or function with `?` to get its documentation, or `??` to see the actual source. We will demonstrate this for NumPy's `mean` function."
   ]
  },
  {
   "cell_type": "code",
   "execution_count": 16,
   "metadata": {},
   "outputs": [],
   "source": [
    "import numpy as np"
   ]
  },
  {
   "cell_type": "code",
   "execution_count": 17,
   "metadata": {},
   "outputs": [],
   "source": [
    "?np.mean"
   ]
  },
  {
   "cell_type": "code",
   "execution_count": 18,
   "metadata": {},
   "outputs": [],
   "source": [
    "??np.mean"
   ]
  },
  {
   "cell_type": "markdown",
   "metadata": {},
   "source": [
    "In addition to accessing documentation, Jupyter offers built-in functions, e.g., to..."
   ]
  },
  {
   "cell_type": "markdown",
   "metadata": {},
   "source": [
    "... configure libraries, e.g., plotting libraries"
   ]
  },
  {
   "cell_type": "code",
   "execution_count": 23,
   "metadata": {},
   "outputs": [],
   "source": [
    "# display all plots inside the Jupyter notebook\n",
    "%matplotlib inline"
   ]
  },
  {
   "cell_type": "markdown",
   "metadata": {},
   "source": [
    "... or profile your code."
   ]
  },
  {
   "cell_type": "code",
   "execution_count": 25,
   "metadata": {},
   "outputs": [
    {
     "name": "stdout",
     "output_type": "stream",
     "text": [
      "125 µs ± 2.76 µs per loop (mean ± std. dev. of 7 runs, 10000 loops each)\n"
     ]
    }
   ],
   "source": [
    "# test how fast our random number generator is\n",
    "%timeit rng(0, 100, 100)"
   ]
  },
  {
   "cell_type": "markdown",
   "metadata": {},
   "source": [
    "## How extend Jupyter notebooks"
   ]
  },
  {
   "cell_type": "markdown",
   "metadata": {},
   "source": [
    "Since Jupyter is completely open-source, it can be extended quite easily. Several extensions can be found in the `jupyter_contrib_nbextensions` package. These extensions can be activated and deactivated using the `nbextensions` tab on your home page. For example, these extensions allow:\n",
    "- folding code and sections within your notebook\n",
    "- formatting code according to the pep8 guidelines\n",
    "- adding a table of contents to your notebook\n",
    "- changing the look and feel of your notebook environment\n",
    "\n",
    "More information on how to extend Jupyter's functionality can be found in the official [documentation](https://jupyter-notebook.readthedocs.io/en/stable/extending/)."
   ]
  }
 ],
 "metadata": {
  "kernelspec": {
   "display_name": "Python 3",
   "language": "python",
   "name": "python3"
  },
  "language_info": {
   "codemirror_mode": {
    "name": "ipython",
    "version": 3
   },
   "file_extension": ".py",
   "mimetype": "text/x-python",
   "name": "python",
   "nbconvert_exporter": "python",
   "pygments_lexer": "ipython3",
   "version": "3.7.3"
  },
  "toc": {
   "base_numbering": 1,
   "nav_menu": {
    "height": "107px",
    "width": "378px"
   },
   "number_sections": true,
   "sideBar": true,
   "skip_h1_title": true,
   "title_cell": "Table of Contents",
   "title_sidebar": "Contents",
   "toc_cell": false,
   "toc_position": {},
   "toc_section_display": true,
   "toc_window_display": false
  }
 },
 "nbformat": 4,
 "nbformat_minor": 2
}
